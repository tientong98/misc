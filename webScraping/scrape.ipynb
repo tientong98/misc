{
 "cells": [
  {
   "cell_type": "markdown",
   "id": "967c980d",
   "metadata": {},
   "source": [
    "Use Python to interact with website:\n",
    "  * Provide an NYC address as input to https://council.nyc.gov/map-widget\n",
    "  * Print pop-up results (district information and council member representative) to console"
   ]
  },
  {
   "cell_type": "code",
   "execution_count": 1,
   "id": "cce8de98",
   "metadata": {},
   "outputs": [],
   "source": [
    "from selenium import webdriver\n",
    "import json, time\n",
    "from selenium.webdriver.common.by import By\n",
    "from selenium.webdriver.support.ui import WebDriverWait\n",
    "from selenium.webdriver.support import expected_conditions as EC"
   ]
  },
  {
   "cell_type": "code",
   "execution_count": 2,
   "id": "9d16e07c",
   "metadata": {},
   "outputs": [
    {
     "name": "stdout",
     "output_type": "stream",
     "text": [
      "District 4\n",
      "Keith Powers\n"
     ]
    }
   ],
   "source": [
    "browser = webdriver.Chrome(\"chromedriver\") #download chromebrowser\n",
    "\n",
    "wait = WebDriverWait(browser, 10)\n",
    "\n",
    "browser.get(\"https://council.nyc.gov/map-widget/\") #open page in browser\n",
    "address=\"1399 Park Ave., New York\"\n",
    "browser.find_element(By.XPATH, \"//input[contains(@id, 'mapAddress')]\").send_keys(address)\n",
    "browser.find_element(By.XPATH, \"//button[contains(@type, 'submit')]\").click()\n",
    "\n",
    "# wait for popup to appear and contain data\n",
    "wait.until(EC.visibility_of_element_located((By.CSS_SELECTOR, '.leaflet-popup-content a')))\n",
    "\n",
    "popup = browser.find_element_by_class_name(\"leaflet-popup-content\")\n",
    "print(popup.text)\n"
   ]
  }
 ],
 "metadata": {
  "kernelspec": {
   "display_name": "Python 3 (ipykernel)",
   "language": "python",
   "name": "python3"
  },
  "language_info": {
   "codemirror_mode": {
    "name": "ipython",
    "version": 3
   },
   "file_extension": ".py",
   "mimetype": "text/x-python",
   "name": "python",
   "nbconvert_exporter": "python",
   "pygments_lexer": "ipython3",
   "version": "3.9.7"
  }
 },
 "nbformat": 4,
 "nbformat_minor": 5
}
